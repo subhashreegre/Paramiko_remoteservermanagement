{
  "nbformat": 4,
  "nbformat_minor": 0,
  "metadata": {
    "colab": {
      "provenance": [],
      "authorship_tag": "ABX9TyMIYLd3qCsGc42AemjGANz2",
      "include_colab_link": true
    },
    "kernelspec": {
      "name": "python3",
      "display_name": "Python 3"
    },
    "language_info": {
      "name": "python"
    }
  },
  "cells": [
    {
      "cell_type": "markdown",
      "metadata": {
        "id": "view-in-github",
        "colab_type": "text"
      },
      "source": [
        "<a href=\"https://colab.research.google.com/github/subhashreegre/Paramiko_remoteservermanagement/blob/main/Remote_Server_Management_and_File_Automation_Model_using_Paramiko.ipynb\" target=\"_parent\"><img src=\"https://colab.research.google.com/assets/colab-badge.svg\" alt=\"Open In Colab\"/></a>"
      ]
    },
    {
      "cell_type": "code",
      "execution_count": 1,
      "metadata": {
        "colab": {
          "base_uri": "https://localhost:8080/"
        },
        "id": "7KrdoPm-bHG1",
        "outputId": "5fbe94a8-d74f-486b-b73b-7858c24d7bb8"
      },
      "outputs": [
        {
          "output_type": "stream",
          "name": "stdout",
          "text": [
            "Collecting paramiko\n",
            "  Downloading paramiko-3.5.1-py3-none-any.whl.metadata (4.6 kB)\n",
            "Collecting bcrypt>=3.2 (from paramiko)\n",
            "  Downloading bcrypt-4.2.1-cp39-abi3-manylinux_2_28_x86_64.whl.metadata (9.8 kB)\n",
            "Requirement already satisfied: cryptography>=3.3 in /usr/local/lib/python3.11/dist-packages (from paramiko) (43.0.3)\n",
            "Collecting pynacl>=1.5 (from paramiko)\n",
            "  Downloading PyNaCl-1.5.0-cp36-abi3-manylinux_2_17_x86_64.manylinux2014_x86_64.manylinux_2_24_x86_64.whl.metadata (8.6 kB)\n",
            "Requirement already satisfied: cffi>=1.12 in /usr/local/lib/python3.11/dist-packages (from cryptography>=3.3->paramiko) (1.17.1)\n",
            "Requirement already satisfied: pycparser in /usr/local/lib/python3.11/dist-packages (from cffi>=1.12->cryptography>=3.3->paramiko) (2.22)\n",
            "Downloading paramiko-3.5.1-py3-none-any.whl (227 kB)\n",
            "\u001b[2K   \u001b[90m━━━━━━━━━━━━━━━━━━━━━━━━━━━━━━━━━━━━━━━━\u001b[0m \u001b[32m227.3/227.3 kB\u001b[0m \u001b[31m5.5 MB/s\u001b[0m eta \u001b[36m0:00:00\u001b[0m\n",
            "\u001b[?25hDownloading bcrypt-4.2.1-cp39-abi3-manylinux_2_28_x86_64.whl (278 kB)\n",
            "\u001b[2K   \u001b[90m━━━━━━━━━━━━━━━━━━━━━━━━━━━━━━━━━━━━━━━━\u001b[0m \u001b[32m278.6/278.6 kB\u001b[0m \u001b[31m6.9 MB/s\u001b[0m eta \u001b[36m0:00:00\u001b[0m\n",
            "\u001b[?25hDownloading PyNaCl-1.5.0-cp36-abi3-manylinux_2_17_x86_64.manylinux2014_x86_64.manylinux_2_24_x86_64.whl (856 kB)\n",
            "\u001b[2K   \u001b[90m━━━━━━━━━━━━━━━━━━━━━━━━━━━━━━━━━━━━━━━━\u001b[0m \u001b[32m856.7/856.7 kB\u001b[0m \u001b[31m20.3 MB/s\u001b[0m eta \u001b[36m0:00:00\u001b[0m\n",
            "\u001b[?25hInstalling collected packages: bcrypt, pynacl, paramiko\n",
            "Successfully installed bcrypt-4.2.1 paramiko-3.5.1 pynacl-1.5.0\n"
          ]
        }
      ],
      "source": [
        "!pip install paramiko"
      ]
    },
    {
      "cell_type": "code",
      "source": [
        "import json\n",
        "\n",
        "# Server configuration details\n",
        "server_config = {\n",
        "    \"name\": \"RemoteServer\",\n",
        "    \"hostname\": \"192.168.1.10\",\n",
        "    \"port\": 22,\n",
        "    \"username\": \"user1\",\n",
        "    \"password\": \"password1\"\n",
        "}\n",
        "\n",
        "# Save configuration to a file\n",
        "with open(\"server_config.json\", \"w\") as file:\n",
        "    json.dump(server_config, file, indent=4)\n",
        "\n",
        "print(\"Configuration file created: server_config.json\")"
      ],
      "metadata": {
        "colab": {
          "base_uri": "https://localhost:8080/"
        },
        "id": "ZP-hbDhVcgkX",
        "outputId": "f6013b81-2660-48ff-ed36-6e111bbc2428"
      },
      "execution_count": 2,
      "outputs": [
        {
          "output_type": "stream",
          "name": "stdout",
          "text": [
            "Configuration file created: server_config.json\n"
          ]
        }
      ]
    },
    {
      "cell_type": "code",
      "source": [
        "import paramiko\n",
        "\n",
        "# Load server configuration\n",
        "def load_config(file_path=\"server_config.json\"):\n",
        "    with open(file_path, \"r\") as f:\n",
        "        return json.load(f)\n",
        "\n",
        "# Establish SSH connection\n",
        "def connect_to_server(config):\n",
        "    ssh = paramiko.SSHClient()\n",
        "    ssh.set_missing_host_key_policy(paramiko.AutoAddPolicy())\n",
        "    try:\n",
        "        ssh.connect(\n",
        "            hostname=config[\"hostname\"],\n",
        "            port=config[\"port\"],\n",
        "            username=config[\"username\"],\n",
        "            password=config[\"password\"]\n",
        "        )\n",
        "        print(f\"Connected to {config['name']}\")\n",
        "        return ssh\n",
        "    except Exception as e:\n",
        "        print(f\"Failed to connect to {config['name']}: {e}\")\n",
        "        return None\n",
        "\n",
        "# Execute remote commands\n",
        "def execute_command(ssh, command):\n",
        "    try:\n",
        "        stdin, stdout, stderr = ssh.exec_command(command)\n",
        "        output = stdout.read().decode().strip()\n",
        "        error = stderr.read().decode().strip()\n",
        "        return output, error\n",
        "    except Exception as e:\n",
        "        print(f\"Failed to execute command: {e}\")\n",
        "        return None, None\n",
        "\n",
        "# Download files via SFTP\n",
        "def download_file(ssh, remote_path, local_path):\n",
        "    try:\n",
        "        sftp = ssh.open_sftp()\n",
        "        sftp.get(remote_path, local_path)\n",
        "        sftp.close()\n",
        "        print(f\"File downloaded: {local_path}\")\n",
        "    except Exception as e:\n",
        "        print(f\"Failed to download file: {e}\")"
      ],
      "metadata": {
        "id": "rXcg17nodkfO"
      },
      "execution_count": 3,
      "outputs": []
    },
    {
      "cell_type": "code",
      "source": [
        "import os\n",
        "\n",
        "def main():\n",
        "    # Load configuration\n",
        "    config = load_config()\n",
        "\n",
        "    # Connect to the server\n",
        "    ssh = connect_to_server(config)\n",
        "    if not ssh:\n",
        "        return\n",
        "\n",
        "    # Execute a remote command\n",
        "    print(\"Executing 'uptime' command...\")\n",
        "    output, error = execute_command(ssh, \"uptime\")\n",
        "    if output:\n",
        "        print(f\"Command Output:\\n{output}\")\n",
        "    if error:\n",
        "        print(f\"Command Error:\\n{error}\")\n",
        "\n",
        "    # Download a file from the remote server\n",
        "    remote_path = \"/var/log/syslog\"  # Example: system logs\n",
        "    local_path = \"syslog_backup.log\"\n",
        "    print(\"Downloading file...\")\n",
        "    download_file(ssh, remote_path, local_path)\n",
        "\n",
        "    # Close SSH connection\n",
        "    ssh.close()\n",
        "    print(\"SSH connection closed.\")\n",
        "\n",
        "# Run the main function\n",
        "main()"
      ],
      "metadata": {
        "colab": {
          "base_uri": "https://localhost:8080/"
        },
        "id": "Zbf-ggE4dxh_",
        "outputId": "c677383a-7774-4885-def3-dfa06dc1b49a"
      },
      "execution_count": 4,
      "outputs": [
        {
          "output_type": "stream",
          "name": "stdout",
          "text": [
            "Failed to connect to RemoteServer: [Errno 110] Connection timed out\n"
          ]
        }
      ]
    }
  ]
}